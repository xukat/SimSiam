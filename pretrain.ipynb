{
 "cells": [
  {
   "cell_type": "code",
   "execution_count": 1,
   "id": "4aa5692b",
   "metadata": {},
   "outputs": [
    {
     "name": "stdout",
     "output_type": "stream",
     "text": [
      "env: CUDA_DEVICE_ORDER=PCI_BUS_ID\n",
      "env: CUDA_VISIBLE_DEVICES=0\n"
     ]
    }
   ],
   "source": [
    "%env CUDA_DEVICE_ORDER=PCI_BUS_ID\n",
    "%env CUDA_VISIBLE_DEVICES=0"
   ]
  },
  {
   "cell_type": "code",
   "execution_count": 2,
   "id": "3b2b8ee3",
   "metadata": {},
   "outputs": [],
   "source": [
    "# !python main.py --data_dir ../../../data/ --log_dir ../log/ -c configs/simsiam_tensile.yaml --ckpt_dir ../cache/"
   ]
  },
  {
   "cell_type": "code",
   "execution_count": 3,
   "id": "8a79683c",
   "metadata": {},
   "outputs": [],
   "source": [
    "import os\n",
    "from importlib import reload\n",
    "\n",
    "from arguments import get_args_jupyter\n",
    "from main import main"
   ]
  },
  {
   "cell_type": "code",
   "execution_count": 4,
   "id": "aa88f0a0",
   "metadata": {},
   "outputs": [],
   "source": [
    "# import arguments\n",
    "# import main\n",
    "# reload(arguments)\n",
    "# reload(main)\n",
    "\n",
    "# from arguments import get_args_jupyter\n",
    "# from main import main"
   ]
  },
  {
   "cell_type": "code",
   "execution_count": 5,
   "id": "3510b5ab",
   "metadata": {},
   "outputs": [
    {
     "name": "stdout",
     "output_type": "stream",
     "text": [
      "creating file ../log/in-progress_0428184742_simsiam_tensile\n"
     ]
    }
   ],
   "source": [
    "args = get_args_jupyter(data_dir=\"../../../data/\",\n",
    "                        log_dir =\"../log/\", \n",
    "                        config_file= \"configs/simsiam_tensile.yaml\",\n",
    "                        ckpt_dir = \"../cache/\",\n",
    "                        hide_progress=True,\n",
    "                       )"
   ]
  },
  {
   "cell_type": "code",
   "execution_count": 6,
   "id": "8b271360",
   "metadata": {
    "scrolled": false
   },
   "outputs": [
    {
     "name": "stderr",
     "output_type": "stream",
     "text": [
      "Training: 100%|████████████████████████████████████████████████████████████| 100/100 [2:17:25<00:00, 82.46s/it, epoch=99, accuracy=0]\n"
     ]
    },
    {
     "name": "stdout",
     "output_type": "stream",
     "text": [
      "> \u001b[0;32m/mnt/md0/users/katie/code/predict-material-properties/simsiam/main.py\u001b[0m(97)\u001b[0;36mmain\u001b[0;34m()\u001b[0m\n",
      "\u001b[0;32m     95 \u001b[0;31m    \u001b[0mmodel_path\u001b[0m \u001b[0;34m=\u001b[0m \u001b[0mos\u001b[0m\u001b[0;34m.\u001b[0m\u001b[0mpath\u001b[0m\u001b[0;34m.\u001b[0m\u001b[0mjoin\u001b[0m\u001b[0;34m(\u001b[0m\u001b[0margs\u001b[0m\u001b[0;34m.\u001b[0m\u001b[0mckpt_dir\u001b[0m\u001b[0;34m,\u001b[0m \u001b[0;34mf\"{args.name}_{datetime.now().strftime('%m%d%H%M%S')}.pth\"\u001b[0m\u001b[0;34m)\u001b[0m \u001b[0;31m# datetime.now().strftime('%Y%m%d_%H%M%S')\u001b[0m\u001b[0;34m\u001b[0m\u001b[0;34m\u001b[0m\u001b[0m\n",
      "\u001b[0m\u001b[0;32m     96 \u001b[0;31m    \u001b[0mpdb\u001b[0m\u001b[0;34m.\u001b[0m\u001b[0mset_trace\u001b[0m\u001b[0;34m(\u001b[0m\u001b[0;34m)\u001b[0m\u001b[0;34m\u001b[0m\u001b[0;34m\u001b[0m\u001b[0m\n",
      "\u001b[0m\u001b[0;32m---> 97 \u001b[0;31m    torch.save({\n",
      "\u001b[0m\u001b[0;32m     98 \u001b[0;31m        \u001b[0;34m'epoch'\u001b[0m\u001b[0;34m:\u001b[0m \u001b[0mepoch\u001b[0m\u001b[0;34m+\u001b[0m\u001b[0;36m1\u001b[0m\u001b[0;34m,\u001b[0m\u001b[0;34m\u001b[0m\u001b[0;34m\u001b[0m\u001b[0m\n",
      "\u001b[0m\u001b[0;32m     99 \u001b[0;31m        \u001b[0;34m'state_dict'\u001b[0m\u001b[0;34m:\u001b[0m\u001b[0mmodel\u001b[0m\u001b[0;34m.\u001b[0m\u001b[0mmodule\u001b[0m\u001b[0;34m.\u001b[0m\u001b[0mstate_dict\u001b[0m\u001b[0;34m(\u001b[0m\u001b[0;34m)\u001b[0m\u001b[0;34m,\u001b[0m\u001b[0;34m\u001b[0m\u001b[0;34m\u001b[0m\u001b[0m\n",
      "\u001b[0m\n",
      "ipdb> c\n",
      "Model saved to ../cache/simsiam_tensile_0428210511.pth\n",
      "Log file has been saved to ../log/completed_0428184742_simsiam_tensile\n"
     ]
    }
   ],
   "source": [
    "main(device=args.device, args=args)\n",
    "completed_log_dir = args.log_dir.replace('in-progress', 'debug' if args.debug else 'completed')\n",
    "os.rename(args.log_dir, completed_log_dir)\n",
    "print(f'Log file has been saved to {completed_log_dir}')"
   ]
  },
  {
   "cell_type": "markdown",
   "id": "79bf6d5f",
   "metadata": {},
   "source": [
    "2022 04 28 001\\\n",
    "simsiam train 100 epochs, not masked, batch size 32\\\n",
    "in-progress_0428132421_simsiam_tensile\\\n",
    "completed_0428132421_simsiam_tensile\n",
    "\n",
    "2022 04 28 002\\\n",
    "simclr train 100 epochs, not masked, batch size 256\\\n",
    "in-progress_0428150843_simclr_tensile\\\n",
    "completed_0428150843_simclr_tensile\n",
    "\n",
    "2022 04 28 003\\\n",
    "simclr train 100 epochs, masked, batch size 256\\\n",
    "in-progress_0428154727_simclr_tensile_masked\\\n",
    "completed_0428154727_simclr_tensile_masked\n",
    "\n",
    "2022 04 28 004\\\n",
    "simsiam train 100 epochs, masked, batch size 32\\\n",
    "in-progress_0428172949_simsiam_tensile_masked\\\n",
    "completed_0428172949_simsiam_tensile_masked\n",
    "\n",
    "2022 04 28 005\\\n",
    "simsiam tranin 100 epochs, not masked, batch size 256\\\n",
    "in-progress_0428184742_simsiam_tensile\\\n",
    "completed_0428184742_simsiam_tensile\n",
    "\n",
    "2022 04 28 006\\\n",
    "simsiam train 100 epochs, masked, batch size 256\\\n",
    "in-progress_0428200221_simsiam_tensile_masked\\\n",
    "completed_0428200221_simsiam_tensile_masked\n"
   ]
  }
 ],
 "metadata": {
  "kernelspec": {
   "display_name": "Python 3 (ipykernel)",
   "language": "python",
   "name": "python3"
  },
  "language_info": {
   "codemirror_mode": {
    "name": "ipython",
    "version": 3
   },
   "file_extension": ".py",
   "mimetype": "text/x-python",
   "name": "python",
   "nbconvert_exporter": "python",
   "pygments_lexer": "ipython3",
   "version": "3.7.7"
  }
 },
 "nbformat": 4,
 "nbformat_minor": 5
}
