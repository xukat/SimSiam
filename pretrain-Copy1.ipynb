{
 "cells": [
  {
   "cell_type": "code",
   "execution_count": 1,
   "id": "4aa5692b",
   "metadata": {},
   "outputs": [
    {
     "name": "stdout",
     "output_type": "stream",
     "text": [
      "env: CUDA_DEVICE_ORDER=PCI_BUS_ID\n",
      "env: CUDA_VISIBLE_DEVICES=1\n"
     ]
    }
   ],
   "source": [
    "%env CUDA_DEVICE_ORDER=PCI_BUS_ID\n",
    "%env CUDA_VISIBLE_DEVICES=1"
   ]
  },
  {
   "cell_type": "code",
   "execution_count": 2,
   "id": "3b2b8ee3",
   "metadata": {},
   "outputs": [],
   "source": [
    "# !python main.py --data_dir ../../../data/ --log_dir ../log/ -c configs/simsiam_tensile.yaml --ckpt_dir ../cache/"
   ]
  },
  {
   "cell_type": "code",
   "execution_count": 3,
   "id": "613aed0d",
   "metadata": {},
   "outputs": [],
   "source": [
    "import os\n",
    "from importlib import reload\n",
    "\n",
    "from arguments import get_args_jupyter\n",
    "from main import main"
   ]
  },
  {
   "cell_type": "code",
   "execution_count": 4,
   "id": "6792b530",
   "metadata": {},
   "outputs": [],
   "source": [
    "# import arguments\n",
    "# import main\n",
    "# reload(arguments)\n",
    "# reload(main)\n",
    "\n",
    "# from arguments import get_args_jupyter\n",
    "# from main import main"
   ]
  },
  {
   "cell_type": "code",
   "execution_count": 5,
   "id": "ee2a1490",
   "metadata": {},
   "outputs": [
    {
     "name": "stdout",
     "output_type": "stream",
     "text": [
      "creating file ../log/in-progress_0428200221_simsiam_tensile_masked\n"
     ]
    }
   ],
   "source": [
    "args = get_args_jupyter(data_dir=\"../../../data/\",\n",
    "                        log_dir =\"../log/\", \n",
    "                        config_file= \"configs/simsiam_tensile_masked.yaml\",\n",
    "                        ckpt_dir = \"../cache/\",\n",
    "                        hide_progress=True,\n",
    "                       )"
   ]
  },
  {
   "cell_type": "code",
   "execution_count": 6,
   "id": "de5c2b12",
   "metadata": {},
   "outputs": [
    {
     "name": "stderr",
     "output_type": "stream",
     "text": [
      "Training: 100%|████████████████████████████████████████████████████████████| 100/100 [2:25:01<00:00, 87.01s/it, epoch=99, accuracy=0]\n"
     ]
    },
    {
     "name": "stdout",
     "output_type": "stream",
     "text": [
      "> \u001b[0;32m/mnt/md0/users/katie/code/predict-material-properties/simsiam/main.py\u001b[0m(97)\u001b[0;36mmain\u001b[0;34m()\u001b[0m\n",
      "\u001b[0;32m     95 \u001b[0;31m    \u001b[0mmodel_path\u001b[0m \u001b[0;34m=\u001b[0m \u001b[0mos\u001b[0m\u001b[0;34m.\u001b[0m\u001b[0mpath\u001b[0m\u001b[0;34m.\u001b[0m\u001b[0mjoin\u001b[0m\u001b[0;34m(\u001b[0m\u001b[0margs\u001b[0m\u001b[0;34m.\u001b[0m\u001b[0mckpt_dir\u001b[0m\u001b[0;34m,\u001b[0m \u001b[0;34mf\"{args.name}_{datetime.now().strftime('%m%d%H%M%S')}.pth\"\u001b[0m\u001b[0;34m)\u001b[0m \u001b[0;31m# datetime.now().strftime('%Y%m%d_%H%M%S')\u001b[0m\u001b[0;34m\u001b[0m\u001b[0;34m\u001b[0m\u001b[0m\n",
      "\u001b[0m\u001b[0;32m     96 \u001b[0;31m    \u001b[0mpdb\u001b[0m\u001b[0;34m.\u001b[0m\u001b[0mset_trace\u001b[0m\u001b[0;34m(\u001b[0m\u001b[0;34m)\u001b[0m\u001b[0;34m\u001b[0m\u001b[0;34m\u001b[0m\u001b[0m\n",
      "\u001b[0m\u001b[0;32m---> 97 \u001b[0;31m    torch.save({\n",
      "\u001b[0m\u001b[0;32m     98 \u001b[0;31m        \u001b[0;34m'epoch'\u001b[0m\u001b[0;34m:\u001b[0m \u001b[0mepoch\u001b[0m\u001b[0;34m+\u001b[0m\u001b[0;36m1\u001b[0m\u001b[0;34m,\u001b[0m\u001b[0;34m\u001b[0m\u001b[0;34m\u001b[0m\u001b[0m\n",
      "\u001b[0m\u001b[0;32m     99 \u001b[0;31m        \u001b[0;34m'state_dict'\u001b[0m\u001b[0;34m:\u001b[0m\u001b[0mmodel\u001b[0m\u001b[0;34m.\u001b[0m\u001b[0mmodule\u001b[0m\u001b[0;34m.\u001b[0m\u001b[0mstate_dict\u001b[0m\u001b[0;34m(\u001b[0m\u001b[0;34m)\u001b[0m\u001b[0;34m,\u001b[0m\u001b[0;34m\u001b[0m\u001b[0;34m\u001b[0m\u001b[0m\n",
      "\u001b[0m\n",
      "ipdb> c\n",
      "Model saved to ../cache/simsiam_tensile_masked_0428222726.pth\n",
      "Log file has been saved to ../log/completed_0428200221_simsiam_tensile_masked\n"
     ]
    }
   ],
   "source": [
    "main(device=args.device, args=args)\n",
    "completed_log_dir = args.log_dir.replace('in-progress', 'debug' if args.debug else 'completed')\n",
    "os.rename(args.log_dir, completed_log_dir)\n",
    "print(f'Log file has been saved to {completed_log_dir}')"
   ]
  },
  {
   "cell_type": "code",
   "execution_count": null,
   "id": "58b999f7",
   "metadata": {},
   "outputs": [
    {
     "data": {
      "text/html": [
       "<script>Jupyter.notebook.kernel.restart()</script>"
      ],
      "text/plain": [
       "<IPython.core.display.HTML object>"
      ]
     },
     "execution_count": 7,
     "metadata": {},
     "output_type": "execute_result"
    }
   ],
   "source": [
    "from IPython.core.display import HTML\n",
    "HTML(\"<script>Jupyter.notebook.kernel.restart()</script>\")"
   ]
  }
 ],
 "metadata": {
  "kernelspec": {
   "display_name": "Python 3 (ipykernel)",
   "language": "python",
   "name": "python3"
  },
  "language_info": {
   "codemirror_mode": {
    "name": "ipython",
    "version": 3
   },
   "file_extension": ".py",
   "mimetype": "text/x-python",
   "name": "python",
   "nbconvert_exporter": "python",
   "pygments_lexer": "ipython3",
   "version": "3.7.7"
  }
 },
 "nbformat": 4,
 "nbformat_minor": 5
}
